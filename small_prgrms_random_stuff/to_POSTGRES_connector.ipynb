{
 "cells": [
  {
   "cell_type": "code",
   "execution_count": 1,
   "metadata": {},
   "outputs": [],
   "source": [
    "from sqlalchemy import create_engine\n",
    "import pyodbc as pyodbc\n",
    "import pandas as pd \n",
    "# from sqlalchemy import create_engine\n",
    "\n",
    "user = \"ddms\"\n",
    "password = \"123456789\"\n",
    "db = \"DDMS_DATABASE\"\n",
    "port = \"1433\"\n",
    "server = \"192.168.126.63\"\n",
    "engine_1 = create_engine(\n",
    "    f\"mssql+pyodbc://{user}:{password}@{server}:{port}/{db}?driver=ODBC+Driver+17+for+SQL+Server\"\n",
    ")\n",
    "# user = \"postgres\"\n",
    "# password = \"UAT-202010-C001-IPack-DB\"\n",
    "# db = \"uat\"\n",
    "# port = \"5432\"\n",
    "# server = \"uat-202010-c001-ipack-db-m.cjmj1w1kndde.me-central-1.rds.amazonaws.com\"\n",
    "# engine_2 = create_engine(\n",
    "#     f\"postgresql+psycopg2://{user}:{password}@{server}:{port}/{db}\"\n",
    "# )\n",
    "sql_query1 = f\"\"\" select * from \"vSalesOrder_FA\" \"\"\""
   ]
  },
  {
   "cell_type": "code",
   "execution_count": 3,
   "metadata": {},
   "outputs": [],
   "source": [
    "loan_details = pd.read_sql_query(sql_query1, engine_1)\n",
    "loan_details['created_at'] = pd.to_datetime(loan_details['created_at'], format = '%Y-%m-%d %H:%M:%S')\n",
    "loan_details.to_csv('ipack2_new_vSalesOrder_FA2.csv')"
   ]
  },
  {
   "cell_type": "code",
   "execution_count": 4,
   "metadata": {},
   "outputs": [],
   "source": [
    "user = \"postgres\"\n",
    "password = \"UAT-202010-C001-IPack-DB\"\n",
    "db = \"DEVELOPMENT\"\n",
    "port = \"5432\"\n",
    "server = \"uat-202010-c001-ipack-db-m.cjmj1w1kndde.me-central-1.rds.amazonaws.com\"\n",
    "engine_2 = create_engine(\n",
    "    f\"postgresql+psycopg2://{user}:{password}@{server}:{port}/{db}\"\n",
    ")\n"
   ]
  },
  {
   "cell_type": "code",
   "execution_count": null,
   "metadata": {},
   "outputs": [],
   "source": [
    "loan_details.to_sql('vSalesOrder_FA', engine_2,if_exists='append', index=False)"
   ]
  },
  {
   "cell_type": "code",
   "execution_count": null,
   "metadata": {},
   "outputs": [],
   "source": []
  }
 ],
 "metadata": {
  "kernelspec": {
   "display_name": "Python 3",
   "language": "python",
   "name": "python3"
  },
  "language_info": {
   "codemirror_mode": {
    "name": "ipython",
    "version": 3
   },
   "file_extension": ".py",
   "mimetype": "text/x-python",
   "name": "python",
   "nbconvert_exporter": "python",
   "pygments_lexer": "ipython3",
   "version": "3.8.5"
  }
 },
 "nbformat": 4,
 "nbformat_minor": 4
}
